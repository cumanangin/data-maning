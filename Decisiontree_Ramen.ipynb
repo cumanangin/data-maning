{
  "nbformat": 4,
  "nbformat_minor": 0,
  "metadata": {
    "colab": {
      "name": "Decisiontree Ramen.ipynb",
      "provenance": [],
      "collapsed_sections": [],
      "authorship_tag": "ABX9TyNNcOwHiaP94OI9dMd6su2w",
      "include_colab_link": true
    },
    "kernelspec": {
      "name": "python3",
      "display_name": "Python 3"
    },
    "language_info": {
      "name": "python"
    }
  },
  "cells": [
    {
      "cell_type": "markdown",
      "metadata": {
        "id": "view-in-github",
        "colab_type": "text"
      },
      "source": [
        "<a href=\"https://colab.research.google.com/github/riioaditya/data-maning/blob/main/Decisiontree_Ramen.ipynb\" target=\"_parent\"><img src=\"https://colab.research.google.com/assets/colab-badge.svg\" alt=\"Open In Colab\"/></a>"
      ]
    },
    {
      "cell_type": "code",
      "metadata": {
        "id": "mhMPSByhYN47"
      },
      "source": [
        "import numpy as np\n",
        "import pandas as pd\n",
        "from sklearn import tree\n",
        "from sklearn import preprocessing"
      ],
      "execution_count": 1614,
      "outputs": []
    },
    {
      "cell_type": "code",
      "metadata": {
        "id": "IuysFKyrb9zj"
      },
      "source": [
        "ramenDataset = pd.read_csv('ramen-ratingg.csv', delimiter=',', header=0)"
      ],
      "execution_count": 1615,
      "outputs": []
    },
    {
      "cell_type": "code",
      "metadata": {
        "colab": {
          "base_uri": "https://localhost:8080/"
        },
        "id": "r94INnC2b_kU",
        "outputId": "485d69f4-d264-48a2-d61d-d74737aa4bb6"
      },
      "source": [
        "len(ramenDataset)"
      ],
      "execution_count": 1616,
      "outputs": [
        {
          "output_type": "execute_result",
          "data": {
            "text/plain": [
              "1954"
            ]
          },
          "metadata": {
            "tags": []
          },
          "execution_count": 1616
        }
      ]
    },
    {
      "cell_type": "code",
      "metadata": {
        "colab": {
          "base_uri": "https://localhost:8080/",
          "height": 195
        },
        "id": "jyITXS6GcAlw",
        "outputId": "f0df109f-6148-460f-8b64-6b71be422061"
      },
      "source": [
        "ramenDataset.head()"
      ],
      "execution_count": 1617,
      "outputs": [
        {
          "output_type": "execute_result",
          "data": {
            "text/html": [
              "<div>\n",
              "<style scoped>\n",
              "    .dataframe tbody tr th:only-of-type {\n",
              "        vertical-align: middle;\n",
              "    }\n",
              "\n",
              "    .dataframe tbody tr th {\n",
              "        vertical-align: top;\n",
              "    }\n",
              "\n",
              "    .dataframe thead th {\n",
              "        text-align: right;\n",
              "    }\n",
              "</style>\n",
              "<table border=\"1\" class=\"dataframe\">\n",
              "  <thead>\n",
              "    <tr style=\"text-align: right;\">\n",
              "      <th></th>\n",
              "      <th>Review #</th>\n",
              "      <th>Brand</th>\n",
              "      <th>Variety</th>\n",
              "      <th>Style</th>\n",
              "      <th>Country</th>\n",
              "      <th>Stars</th>\n",
              "      <th>Top Ten</th>\n",
              "    </tr>\n",
              "  </thead>\n",
              "  <tbody>\n",
              "    <tr>\n",
              "      <th>0</th>\n",
              "      <td>2580</td>\n",
              "      <td>New Touch</td>\n",
              "      <td>T's Restaurant Tantanmen</td>\n",
              "      <td>Cup</td>\n",
              "      <td>Japan</td>\n",
              "      <td>3.75</td>\n",
              "      <td>NaN</td>\n",
              "    </tr>\n",
              "    <tr>\n",
              "      <th>1</th>\n",
              "      <td>2579</td>\n",
              "      <td>Just Way</td>\n",
              "      <td>Noodles Spicy Hot Sesame Spicy Hot Sesame Guan...</td>\n",
              "      <td>Pack</td>\n",
              "      <td>Taiwan</td>\n",
              "      <td>1.00</td>\n",
              "      <td>NaN</td>\n",
              "    </tr>\n",
              "    <tr>\n",
              "      <th>2</th>\n",
              "      <td>2578</td>\n",
              "      <td>Nissin</td>\n",
              "      <td>Cup Noodles Chicken Vegetable</td>\n",
              "      <td>Cup</td>\n",
              "      <td>USA</td>\n",
              "      <td>2.25</td>\n",
              "      <td>NaN</td>\n",
              "    </tr>\n",
              "    <tr>\n",
              "      <th>3</th>\n",
              "      <td>2577</td>\n",
              "      <td>Wei Lih</td>\n",
              "      <td>GGE Ramen Snack Tomato Flavor</td>\n",
              "      <td>Pack</td>\n",
              "      <td>Taiwan</td>\n",
              "      <td>2.75</td>\n",
              "      <td>NaN</td>\n",
              "    </tr>\n",
              "    <tr>\n",
              "      <th>4</th>\n",
              "      <td>2576</td>\n",
              "      <td>Ching's Secret</td>\n",
              "      <td>Singapore Curry</td>\n",
              "      <td>Pack</td>\n",
              "      <td>India</td>\n",
              "      <td>3.75</td>\n",
              "      <td>NaN</td>\n",
              "    </tr>\n",
              "  </tbody>\n",
              "</table>\n",
              "</div>"
            ],
            "text/plain": [
              "   Review #           Brand  ... Stars Top Ten\n",
              "0      2580       New Touch  ...  3.75     NaN\n",
              "1      2579        Just Way  ...  1.00     NaN\n",
              "2      2578          Nissin  ...  2.25     NaN\n",
              "3      2577         Wei Lih  ...  2.75     NaN\n",
              "4      2576  Ching's Secret  ...  3.75     NaN\n",
              "\n",
              "[5 rows x 7 columns]"
            ]
          },
          "metadata": {
            "tags": []
          },
          "execution_count": 1617
        }
      ]
    },
    {
      "cell_type": "code",
      "metadata": {
        "id": "Nx16qA5wcDoQ"
      },
      "source": [
        "ramenDataset[\"Style\"] = pd.factorize(ramenDataset.Style)[0]"
      ],
      "execution_count": 1618,
      "outputs": []
    },
    {
      "cell_type": "code",
      "metadata": {
        "id": "LSYHpLMVcQyx"
      },
      "source": [
        "ramenDataset = ramenDataset.drop('Review #', 1)"
      ],
      "execution_count": 1619,
      "outputs": []
    },
    {
      "cell_type": "code",
      "metadata": {
        "colab": {
          "base_uri": "https://localhost:8080/",
          "height": 195
        },
        "id": "yRIsK8pRcVd4",
        "outputId": "5f0096cd-3984-470d-e5e0-cb526104053a"
      },
      "source": [
        "ramenDataset.head()"
      ],
      "execution_count": 1620,
      "outputs": [
        {
          "output_type": "execute_result",
          "data": {
            "text/html": [
              "<div>\n",
              "<style scoped>\n",
              "    .dataframe tbody tr th:only-of-type {\n",
              "        vertical-align: middle;\n",
              "    }\n",
              "\n",
              "    .dataframe tbody tr th {\n",
              "        vertical-align: top;\n",
              "    }\n",
              "\n",
              "    .dataframe thead th {\n",
              "        text-align: right;\n",
              "    }\n",
              "</style>\n",
              "<table border=\"1\" class=\"dataframe\">\n",
              "  <thead>\n",
              "    <tr style=\"text-align: right;\">\n",
              "      <th></th>\n",
              "      <th>Brand</th>\n",
              "      <th>Variety</th>\n",
              "      <th>Style</th>\n",
              "      <th>Country</th>\n",
              "      <th>Stars</th>\n",
              "      <th>Top Ten</th>\n",
              "    </tr>\n",
              "  </thead>\n",
              "  <tbody>\n",
              "    <tr>\n",
              "      <th>0</th>\n",
              "      <td>New Touch</td>\n",
              "      <td>T's Restaurant Tantanmen</td>\n",
              "      <td>0</td>\n",
              "      <td>Japan</td>\n",
              "      <td>3.75</td>\n",
              "      <td>NaN</td>\n",
              "    </tr>\n",
              "    <tr>\n",
              "      <th>1</th>\n",
              "      <td>Just Way</td>\n",
              "      <td>Noodles Spicy Hot Sesame Spicy Hot Sesame Guan...</td>\n",
              "      <td>1</td>\n",
              "      <td>Taiwan</td>\n",
              "      <td>1.00</td>\n",
              "      <td>NaN</td>\n",
              "    </tr>\n",
              "    <tr>\n",
              "      <th>2</th>\n",
              "      <td>Nissin</td>\n",
              "      <td>Cup Noodles Chicken Vegetable</td>\n",
              "      <td>0</td>\n",
              "      <td>USA</td>\n",
              "      <td>2.25</td>\n",
              "      <td>NaN</td>\n",
              "    </tr>\n",
              "    <tr>\n",
              "      <th>3</th>\n",
              "      <td>Wei Lih</td>\n",
              "      <td>GGE Ramen Snack Tomato Flavor</td>\n",
              "      <td>1</td>\n",
              "      <td>Taiwan</td>\n",
              "      <td>2.75</td>\n",
              "      <td>NaN</td>\n",
              "    </tr>\n",
              "    <tr>\n",
              "      <th>4</th>\n",
              "      <td>Ching's Secret</td>\n",
              "      <td>Singapore Curry</td>\n",
              "      <td>1</td>\n",
              "      <td>India</td>\n",
              "      <td>3.75</td>\n",
              "      <td>NaN</td>\n",
              "    </tr>\n",
              "  </tbody>\n",
              "</table>\n",
              "</div>"
            ],
            "text/plain": [
              "            Brand  ... Top Ten\n",
              "0       New Touch  ...     NaN\n",
              "1        Just Way  ...     NaN\n",
              "2          Nissin  ...     NaN\n",
              "3         Wei Lih  ...     NaN\n",
              "4  Ching's Secret  ...     NaN\n",
              "\n",
              "[5 rows x 6 columns]"
            ]
          },
          "metadata": {
            "tags": []
          },
          "execution_count": 1620
        }
      ]
    },
    {
      "cell_type": "code",
      "metadata": {
        "id": "VN0gJ0vfcX-n"
      },
      "source": [
        "ramenDataset = ramenDataset.drop('Brand', 1)"
      ],
      "execution_count": 1621,
      "outputs": []
    },
    {
      "cell_type": "code",
      "metadata": {
        "colab": {
          "base_uri": "https://localhost:8080/",
          "height": 195
        },
        "id": "qYqyVIekcb94",
        "outputId": "44728fa3-38b3-40c5-f127-41e308ee1717"
      },
      "source": [
        "ramenDataset.head()"
      ],
      "execution_count": 1622,
      "outputs": [
        {
          "output_type": "execute_result",
          "data": {
            "text/html": [
              "<div>\n",
              "<style scoped>\n",
              "    .dataframe tbody tr th:only-of-type {\n",
              "        vertical-align: middle;\n",
              "    }\n",
              "\n",
              "    .dataframe tbody tr th {\n",
              "        vertical-align: top;\n",
              "    }\n",
              "\n",
              "    .dataframe thead th {\n",
              "        text-align: right;\n",
              "    }\n",
              "</style>\n",
              "<table border=\"1\" class=\"dataframe\">\n",
              "  <thead>\n",
              "    <tr style=\"text-align: right;\">\n",
              "      <th></th>\n",
              "      <th>Variety</th>\n",
              "      <th>Style</th>\n",
              "      <th>Country</th>\n",
              "      <th>Stars</th>\n",
              "      <th>Top Ten</th>\n",
              "    </tr>\n",
              "  </thead>\n",
              "  <tbody>\n",
              "    <tr>\n",
              "      <th>0</th>\n",
              "      <td>T's Restaurant Tantanmen</td>\n",
              "      <td>0</td>\n",
              "      <td>Japan</td>\n",
              "      <td>3.75</td>\n",
              "      <td>NaN</td>\n",
              "    </tr>\n",
              "    <tr>\n",
              "      <th>1</th>\n",
              "      <td>Noodles Spicy Hot Sesame Spicy Hot Sesame Guan...</td>\n",
              "      <td>1</td>\n",
              "      <td>Taiwan</td>\n",
              "      <td>1.00</td>\n",
              "      <td>NaN</td>\n",
              "    </tr>\n",
              "    <tr>\n",
              "      <th>2</th>\n",
              "      <td>Cup Noodles Chicken Vegetable</td>\n",
              "      <td>0</td>\n",
              "      <td>USA</td>\n",
              "      <td>2.25</td>\n",
              "      <td>NaN</td>\n",
              "    </tr>\n",
              "    <tr>\n",
              "      <th>3</th>\n",
              "      <td>GGE Ramen Snack Tomato Flavor</td>\n",
              "      <td>1</td>\n",
              "      <td>Taiwan</td>\n",
              "      <td>2.75</td>\n",
              "      <td>NaN</td>\n",
              "    </tr>\n",
              "    <tr>\n",
              "      <th>4</th>\n",
              "      <td>Singapore Curry</td>\n",
              "      <td>1</td>\n",
              "      <td>India</td>\n",
              "      <td>3.75</td>\n",
              "      <td>NaN</td>\n",
              "    </tr>\n",
              "  </tbody>\n",
              "</table>\n",
              "</div>"
            ],
            "text/plain": [
              "                                             Variety  Style  ... Stars  Top Ten\n",
              "0                          T's Restaurant Tantanmen       0  ...  3.75      NaN\n",
              "1  Noodles Spicy Hot Sesame Spicy Hot Sesame Guan...      1  ...  1.00      NaN\n",
              "2                      Cup Noodles Chicken Vegetable      0  ...  2.25      NaN\n",
              "3                      GGE Ramen Snack Tomato Flavor      1  ...  2.75      NaN\n",
              "4                                    Singapore Curry      1  ...  3.75      NaN\n",
              "\n",
              "[5 rows x 5 columns]"
            ]
          },
          "metadata": {
            "tags": []
          },
          "execution_count": 1622
        }
      ]
    },
    {
      "cell_type": "code",
      "metadata": {
        "id": "22VT_fwXchit"
      },
      "source": [
        "ramenDataset = ramenDataset.drop('Variety', 1)"
      ],
      "execution_count": 1623,
      "outputs": []
    },
    {
      "cell_type": "code",
      "metadata": {
        "id": "V9GNhZeRcjvk"
      },
      "source": [
        "ramenDataset = ramenDataset.drop('Country', 1)"
      ],
      "execution_count": 1624,
      "outputs": []
    },
    {
      "cell_type": "code",
      "metadata": {
        "id": "xHptGTEscl6C"
      },
      "source": [
        "ramenDataset = ramenDataset.drop('Top Ten', 1)"
      ],
      "execution_count": 1625,
      "outputs": []
    },
    {
      "cell_type": "code",
      "metadata": {
        "id": "20GdgqXgXzSf"
      },
      "source": [
        "ramenDataset = ramenDataset.drop('Stars', 1)"
      ],
      "execution_count": 1626,
      "outputs": []
    },
    {
      "cell_type": "code",
      "metadata": {
        "colab": {
          "base_uri": "https://localhost:8080/",
          "height": 195
        },
        "id": "vwV7AfPXcnwL",
        "outputId": "14fd040c-5aa1-47d6-aaae-fefe8edccee1"
      },
      "source": [
        "ramenDataset.head()"
      ],
      "execution_count": 1627,
      "outputs": [
        {
          "output_type": "execute_result",
          "data": {
            "text/html": [
              "<div>\n",
              "<style scoped>\n",
              "    .dataframe tbody tr th:only-of-type {\n",
              "        vertical-align: middle;\n",
              "    }\n",
              "\n",
              "    .dataframe tbody tr th {\n",
              "        vertical-align: top;\n",
              "    }\n",
              "\n",
              "    .dataframe thead th {\n",
              "        text-align: right;\n",
              "    }\n",
              "</style>\n",
              "<table border=\"1\" class=\"dataframe\">\n",
              "  <thead>\n",
              "    <tr style=\"text-align: right;\">\n",
              "      <th></th>\n",
              "      <th>Style</th>\n",
              "    </tr>\n",
              "  </thead>\n",
              "  <tbody>\n",
              "    <tr>\n",
              "      <th>0</th>\n",
              "      <td>0</td>\n",
              "    </tr>\n",
              "    <tr>\n",
              "      <th>1</th>\n",
              "      <td>1</td>\n",
              "    </tr>\n",
              "    <tr>\n",
              "      <th>2</th>\n",
              "      <td>0</td>\n",
              "    </tr>\n",
              "    <tr>\n",
              "      <th>3</th>\n",
              "      <td>1</td>\n",
              "    </tr>\n",
              "    <tr>\n",
              "      <th>4</th>\n",
              "      <td>1</td>\n",
              "    </tr>\n",
              "  </tbody>\n",
              "</table>\n",
              "</div>"
            ],
            "text/plain": [
              "   Style\n",
              "0      0\n",
              "1      1\n",
              "2      0\n",
              "3      1\n",
              "4      1"
            ]
          },
          "metadata": {
            "tags": []
          },
          "execution_count": 1627
        }
      ]
    },
    {
      "cell_type": "markdown",
      "metadata": {
        "id": "junHU-9AafRg"
      },
      "source": [
        "Didapati 0 adalah unique-int dari cup, 1 adalah unique-int dari pack, 2 adalah unique-int dari tray, 3 adalah unique-int dari bowl."
      ]
    },
    {
      "cell_type": "code",
      "metadata": {
        "id": "H_bcM39CqXKO"
      },
      "source": [
        "ramenDataset = ramenDataset.to_numpy()"
      ],
      "execution_count": 1628,
      "outputs": []
    },
    {
      "cell_type": "code",
      "metadata": {
        "colab": {
          "base_uri": "https://localhost:8080/"
        },
        "id": "bR_IKz3KqZmI",
        "outputId": "daa055f1-6299-4486-c56b-e8b06c21a698"
      },
      "source": [
        "print(ramenDataset)"
      ],
      "execution_count": 1629,
      "outputs": [
        {
          "output_type": "stream",
          "text": [
            "[[0]\n",
            " [1]\n",
            " [0]\n",
            " ...\n",
            " [1]\n",
            " [1]\n",
            " [1]]\n"
          ],
          "name": "stdout"
        }
      ]
    },
    {
      "cell_type": "code",
      "metadata": {
        "id": "TA3ab61Qqem-"
      },
      "source": [
        "# Membagi dataset => 1760 data untuk training dan 194 baris data untuk testing\n",
        "dataTraining = np.concatenate((ramenDataset[0:990],ramenDataset[1000:1770, :]), axis=0)\n",
        "dataTesting = np.concatenate((ramenDataset[990:1000, :],ramenDataset[1770:1954, :]), axis=0)"
      ],
      "execution_count": 1630,
      "outputs": []
    },
    {
      "cell_type": "code",
      "metadata": {
        "colab": {
          "base_uri": "https://localhost:8080/"
        },
        "id": "xCG6Ko04qtqn",
        "outputId": "2a47ce46-75bc-497c-ae41-fed2d820d9bb"
      },
      "source": [
        "print(dataTraining)\n",
        "len(dataTraining)"
      ],
      "execution_count": 1631,
      "outputs": [
        {
          "output_type": "stream",
          "text": [
            "[[0]\n",
            " [1]\n",
            " [0]\n",
            " ...\n",
            " [0]\n",
            " [3]\n",
            " [3]]\n"
          ],
          "name": "stdout"
        },
        {
          "output_type": "execute_result",
          "data": {
            "text/plain": [
              "1760"
            ]
          },
          "metadata": {
            "tags": []
          },
          "execution_count": 1631
        }
      ]
    },
    {
      "cell_type": "code",
      "metadata": {
        "colab": {
          "base_uri": "https://localhost:8080/"
        },
        "id": "BBHLwUjIqwUj",
        "outputId": "6d9c6430-ca0c-4f59-d328-96c8a0ed9d12"
      },
      "source": [
        "#print(dataTesting)\n",
        "len(dataTesting)"
      ],
      "execution_count": 1632,
      "outputs": [
        {
          "output_type": "execute_result",
          "data": {
            "text/plain": [
              "194"
            ]
          },
          "metadata": {
            "tags": []
          },
          "execution_count": 1632
        }
      ]
    },
    {
      "cell_type": "code",
      "metadata": {
        "id": "LmWKFBXprEAR"
      },
      "source": [
        "inputTraining = dataTraining[:,:]\n",
        "labelTraining = dataTraining[:,:]\n",
        "inputTesting = dataTesting[:,:]\n",
        "labelTesting = dataTesting[:,:]"
      ],
      "execution_count": 1633,
      "outputs": []
    },
    {
      "cell_type": "code",
      "metadata": {
        "id": "XReH_ZKJrQ6i"
      },
      "source": [
        "model = tree.DecisionTreeClassifier()\n",
        "model = model.fit(inputTraining,labelTraining)\n",
        "hasil = model.predict(inputTesting)"
      ],
      "execution_count": 1634,
      "outputs": []
    },
    {
      "cell_type": "code",
      "metadata": {
        "colab": {
          "base_uri": "https://localhost:8080/"
        },
        "id": "HAR_4WPus_Oj",
        "outputId": "6d33b889-6c1b-4666-f548-f28f50421dca"
      },
      "source": [
        "print(\"Label sebelumnya : \",labelTesting)\n",
        "print(\"Hasil predict : \",hasil)"
      ],
      "execution_count": 1635,
      "outputs": [
        {
          "output_type": "stream",
          "text": [
            "Label sebelumnya :  [[1]\n",
            " [1]\n",
            " [1]\n",
            " [1]\n",
            " [1]\n",
            " [3]\n",
            " [1]\n",
            " [1]\n",
            " [3]\n",
            " [1]\n",
            " [3]\n",
            " [3]\n",
            " [0]\n",
            " [3]\n",
            " [0]\n",
            " [3]\n",
            " [0]\n",
            " [1]\n",
            " [1]\n",
            " [1]\n",
            " [3]\n",
            " [1]\n",
            " [1]\n",
            " [3]\n",
            " [1]\n",
            " [1]\n",
            " [2]\n",
            " [1]\n",
            " [0]\n",
            " [1]\n",
            " [3]\n",
            " [1]\n",
            " [3]\n",
            " [1]\n",
            " [3]\n",
            " [3]\n",
            " [1]\n",
            " [0]\n",
            " [0]\n",
            " [3]\n",
            " [3]\n",
            " [3]\n",
            " [3]\n",
            " [1]\n",
            " [1]\n",
            " [1]\n",
            " [3]\n",
            " [1]\n",
            " [3]\n",
            " [3]\n",
            " [3]\n",
            " [1]\n",
            " [1]\n",
            " [1]\n",
            " [1]\n",
            " [1]\n",
            " [3]\n",
            " [3]\n",
            " [1]\n",
            " [1]\n",
            " [1]\n",
            " [1]\n",
            " [3]\n",
            " [1]\n",
            " [3]\n",
            " [1]\n",
            " [3]\n",
            " [0]\n",
            " [1]\n",
            " [3]\n",
            " [1]\n",
            " [3]\n",
            " [1]\n",
            " [1]\n",
            " [3]\n",
            " [1]\n",
            " [3]\n",
            " [1]\n",
            " [1]\n",
            " [1]\n",
            " [1]\n",
            " [1]\n",
            " [0]\n",
            " [3]\n",
            " [3]\n",
            " [3]\n",
            " [3]\n",
            " [1]\n",
            " [1]\n",
            " [3]\n",
            " [3]\n",
            " [1]\n",
            " [1]\n",
            " [1]\n",
            " [1]\n",
            " [1]\n",
            " [1]\n",
            " [1]\n",
            " [0]\n",
            " [3]\n",
            " [3]\n",
            " [0]\n",
            " [3]\n",
            " [1]\n",
            " [1]\n",
            " [0]\n",
            " [3]\n",
            " [1]\n",
            " [1]\n",
            " [3]\n",
            " [3]\n",
            " [1]\n",
            " [1]\n",
            " [1]\n",
            " [0]\n",
            " [1]\n",
            " [1]\n",
            " [1]\n",
            " [0]\n",
            " [3]\n",
            " [3]\n",
            " [0]\n",
            " [0]\n",
            " [3]\n",
            " [0]\n",
            " [3]\n",
            " [0]\n",
            " [0]\n",
            " [2]\n",
            " [2]\n",
            " [1]\n",
            " [3]\n",
            " [1]\n",
            " [0]\n",
            " [3]\n",
            " [2]\n",
            " [3]\n",
            " [1]\n",
            " [1]\n",
            " [1]\n",
            " [1]\n",
            " [2]\n",
            " [2]\n",
            " [3]\n",
            " [3]\n",
            " [3]\n",
            " [1]\n",
            " [1]\n",
            " [0]\n",
            " [3]\n",
            " [2]\n",
            " [1]\n",
            " [2]\n",
            " [0]\n",
            " [1]\n",
            " [1]\n",
            " [0]\n",
            " [3]\n",
            " [1]\n",
            " [1]\n",
            " [3]\n",
            " [0]\n",
            " [3]\n",
            " [1]\n",
            " [1]\n",
            " [1]\n",
            " [3]\n",
            " [0]\n",
            " [1]\n",
            " [1]\n",
            " [1]\n",
            " [3]\n",
            " [3]\n",
            " [3]\n",
            " [1]\n",
            " [3]\n",
            " [1]\n",
            " [1]\n",
            " [1]\n",
            " [3]\n",
            " [1]\n",
            " [1]\n",
            " [1]\n",
            " [0]\n",
            " [1]\n",
            " [1]\n",
            " [3]\n",
            " [0]\n",
            " [0]\n",
            " [0]\n",
            " [1]\n",
            " [1]\n",
            " [1]\n",
            " [1]]\n",
            "Hasil predict :  [1 1 1 1 1 3 1 1 3 1 3 3 0 3 0 3 0 1 1 1 3 1 1 3 1 1 2 1 0 1 3 1 3 1 3 3 1\n",
            " 0 0 3 3 3 3 1 1 1 3 1 3 3 3 1 1 1 1 1 3 3 1 1 1 1 3 1 3 1 3 0 1 3 1 3 1 1\n",
            " 3 1 3 1 1 1 1 1 0 3 3 3 3 1 1 3 3 1 1 1 1 1 1 1 0 3 3 0 3 1 1 0 3 1 1 3 3\n",
            " 1 1 1 0 1 1 1 0 3 3 0 0 3 0 3 0 0 2 2 1 3 1 0 3 2 3 1 1 1 1 2 2 3 3 3 1 1\n",
            " 0 3 2 1 2 0 1 1 0 3 1 1 3 0 3 1 1 1 3 0 1 1 1 3 3 3 1 3 1 1 1 3 1 1 1 0 1\n",
            " 1 3 0 0 0 1 1 1 1]\n"
          ],
          "name": "stdout"
        }
      ]
    },
    {
      "cell_type": "code",
      "metadata": {
        "colab": {
          "base_uri": "https://localhost:8080/"
        },
        "id": "dXvvcS8zd7Es",
        "outputId": "a2f40696-5a48-487c-f7b7-9e61dd3a0a4c"
      },
      "source": [
        "len(labelTesting)"
      ],
      "execution_count": 1636,
      "outputs": [
        {
          "output_type": "execute_result",
          "data": {
            "text/plain": [
              "194"
            ]
          },
          "metadata": {
            "tags": []
          },
          "execution_count": 1636
        }
      ]
    },
    {
      "cell_type": "code",
      "metadata": {
        "colab": {
          "base_uri": "https://localhost:8080/"
        },
        "id": "DufRG7P9eCcw",
        "outputId": "987299e2-70b5-422a-c79f-88f0d5cec36e"
      },
      "source": [
        "len(hasil)"
      ],
      "execution_count": 1637,
      "outputs": [
        {
          "output_type": "execute_result",
          "data": {
            "text/plain": [
              "194"
            ]
          },
          "metadata": {
            "tags": []
          },
          "execution_count": 1637
        }
      ]
    },
    {
      "cell_type": "code",
      "metadata": {
        "colab": {
          "base_uri": "https://localhost:8080/"
        },
        "id": "t1h7x2O7Nzp1",
        "outputId": "3c337071-1268-4d9e-9000-bc115fad008f"
      },
      "source": [
        "benar_cek0 = (hasil == 0).sum()\n",
        "salah_cek0 = (hasil != 0).sum()\n",
        "print(\"cup : \", benar_cek0,\" data\")\n",
        "print(\"yang bukan cup : \", salah_cek0,\" data\")\n",
        "#print(\"akurasi : \", benar_cek0/labelTesting*100, \"%\")\n",
        "print(\"persentase : \",benar_cek0/(benar_cek0+salah_cek0)*100, \"%\")"
      ],
      "execution_count": 1645,
      "outputs": [
        {
          "output_type": "stream",
          "text": [
            "cup :  28  data\n",
            "yang bukan cup :  166  data\n",
            "persentase :  14.432989690721648 %\n"
          ],
          "name": "stdout"
        }
      ]
    },
    {
      "cell_type": "code",
      "metadata": {
        "colab": {
          "base_uri": "https://localhost:8080/"
        },
        "id": "CP3qTqMrb156",
        "outputId": "6f16216f-5a76-4e09-8572-28f1df972a5c"
      },
      "source": [
        "benar_cek1 = (hasil == 1).sum()\n",
        "salah_cek1 = (hasil != 1).sum()\n",
        "print(\"pack : \", benar_cek1,\" data\")\n",
        "print(\"yang bukan pack : \", salah_cek1,\" data\")\n",
        "print(\"akurasi : \", benar_cek1/(benar_cek1+salah_cek1)*100, \"%\")"
      ],
      "execution_count": 1639,
      "outputs": [
        {
          "output_type": "stream",
          "text": [
            "pack :  96  data\n",
            "yang bukan pack :  98  data\n",
            "akurasi :  49.48453608247423 %\n"
          ],
          "name": "stdout"
        }
      ]
    },
    {
      "cell_type": "code",
      "metadata": {
        "colab": {
          "base_uri": "https://localhost:8080/"
        },
        "id": "Gx67meMDb-2M",
        "outputId": "6f6feb43-fefc-4a30-e9de-364140c69184"
      },
      "source": [
        "benar_cek2 = (hasil == 2).sum()\n",
        "salah_cek2 = (hasil != 2).sum()\n",
        "print(\"tray : \", benar_cek2,\" data\")\n",
        "print(\"yang bukan tray : \", salah_cek2,\" data\")\n",
        "print(\"akurasi : \", benar_cek2/(benar_cek2+salah_cek2)*100, \"%\")"
      ],
      "execution_count": 1640,
      "outputs": [
        {
          "output_type": "stream",
          "text": [
            "tray :  8  data\n",
            "yang bukan tray :  186  data\n",
            "akurasi :  4.123711340206185 %\n"
          ],
          "name": "stdout"
        }
      ]
    },
    {
      "cell_type": "code",
      "metadata": {
        "colab": {
          "base_uri": "https://localhost:8080/"
        },
        "id": "9rbp_vGmly4h",
        "outputId": "f9699052-2080-453a-f1c3-80b2c5d3e4b5"
      },
      "source": [
        "benar_cek3 = (hasil == 3).sum()\n",
        "salah_cek3 = (hasil != 3).sum()\n",
        "print(\"bowl : \", benar_cek3,\" data\")\n",
        "print(\"yang bukan bowl : \", salah_cek3,\" data\")\n",
        "print(\"akurasi : \", benar_cek3/(benar_cek3+salah_cek3)*100, \"%\")"
      ],
      "execution_count": 1641,
      "outputs": [
        {
          "output_type": "stream",
          "text": [
            "bowl :  62  data\n",
            "yang bukan bowl :  132  data\n",
            "akurasi :  31.958762886597935 %\n"
          ],
          "name": "stdout"
        }
      ]
    }
  ]
}