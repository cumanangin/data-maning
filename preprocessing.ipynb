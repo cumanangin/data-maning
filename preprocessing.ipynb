{
  "nbformat": 4,
  "nbformat_minor": 0,
  "metadata": {
    "colab": {
      "name": "Untitled1.ipynb",
      "provenance": [],
      "authorship_tag": "ABX9TyOqp2WXkfDCYcFKWK0JDA48",
      "include_colab_link": true
    },
    "kernelspec": {
      "name": "python3",
      "display_name": "Python 3"
    },
    "language_info": {
      "name": "python"
    }
  },
  "cells": [
    {
      "cell_type": "markdown",
      "metadata": {
        "id": "view-in-github",
        "colab_type": "text"
      },
      "source": [
        "<a href=\"https://colab.research.google.com/github/riioaditya/data-maning/blob/main/preprocessing.ipynb\" target=\"_parent\"><img src=\"https://colab.research.google.com/assets/colab-badge.svg\" alt=\"Open In Colab\"/></a>"
      ]
    },
    {
      "cell_type": "code",
      "metadata": {
        "id": "UiSvn3Zh0hG6"
      },
      "source": [
        "import numpy as np\n",
        "import matplotlib.pyplot as plt\n",
        "import pandas as pd"
      ],
      "execution_count": 152,
      "outputs": []
    },
    {
      "cell_type": "code",
      "metadata": {
        "id": "G7VaA7pK2ihX"
      },
      "source": [
        "dataset = pd.read_csv('Data.csv')\n",
        "x = dataset.iloc[:, :-1].values\n",
        "y = dataset.iloc[:, -1].values"
      ],
      "execution_count": 153,
      "outputs": []
    },
    {
      "cell_type": "code",
      "metadata": {
        "colab": {
          "base_uri": "https://localhost:8080/"
        },
        "id": "vzom10bR5qSA",
        "outputId": "c8cd9076-4406-4684-ba3b-82cc8d1fb81f"
      },
      "source": [
        "print(x)"
      ],
      "execution_count": 154,
      "outputs": [
        {
          "output_type": "stream",
          "text": [
            "[['Netherlands' 25.0 48695]\n",
            " ['Poland' 33.0 48950]\n",
            " ['Poland' 31.0 54500]\n",
            " ['United Kingdom' 38.0 61800]\n",
            " ['Netherlands' nan 15600]\n",
            " ['Netherlands' 35.0 58000]\n",
            " ['Poland' nan 42150]\n",
            " ['United Kingdom' 48.0 80000]\n",
            " ['Denmark' 50.0 30800]\n",
            " ['Denmark' 37.0 60000]]\n"
          ],
          "name": "stdout"
        }
      ]
    },
    {
      "cell_type": "code",
      "metadata": {
        "colab": {
          "base_uri": "https://localhost:8080/"
        },
        "id": "GrEOw7hlB774",
        "outputId": "eb586c93-db7e-45f3-8036-04d42e124d37"
      },
      "source": [
        "print(y)"
      ],
      "execution_count": 155,
      "outputs": [
        {
          "output_type": "stream",
          "text": [
            "['Yes' 'Yes' 'No' 'Yes' 'No' 'No' 'No' 'No' 'No' 'Yes']\n"
          ],
          "name": "stdout"
        }
      ]
    },
    {
      "cell_type": "code",
      "metadata": {
        "id": "TGPD4SKjFyWP"
      },
      "source": [
        "from sklearn.impute import SimpleImputer\n",
        "imputer = SimpleImputer(missing_values = np.nan, strategy = 'mean')\n",
        "imputer.fit(x[:, 1:3])\n",
        "x[:, 1:3] = imputer.transform(x[: , 1:3])"
      ],
      "execution_count": 156,
      "outputs": []
    },
    {
      "cell_type": "code",
      "metadata": {
        "colab": {
          "base_uri": "https://localhost:8080/"
        },
        "id": "qkg_AObuSlV1",
        "outputId": "bdea8e57-54a3-414d-da69-ba66d0b0e38f"
      },
      "source": [
        "print(x)"
      ],
      "execution_count": 157,
      "outputs": [
        {
          "output_type": "stream",
          "text": [
            "[['Netherlands' 25.0 48695.0]\n",
            " ['Poland' 33.0 48950.0]\n",
            " ['Poland' 31.0 54500.0]\n",
            " ['United Kingdom' 38.0 61800.0]\n",
            " ['Netherlands' 37.125 15600.0]\n",
            " ['Netherlands' 35.0 58000.0]\n",
            " ['Poland' 37.125 42150.0]\n",
            " ['United Kingdom' 48.0 80000.0]\n",
            " ['Denmark' 50.0 30800.0]\n",
            " ['Denmark' 37.0 60000.0]]\n"
          ],
          "name": "stdout"
        }
      ]
    },
    {
      "cell_type": "code",
      "metadata": {
        "id": "DwQuztOGeGW6"
      },
      "source": [
        "from sklearn.compose import ColumnTransformer\n",
        "from sklearn.preprocessing import OneHotEncoder\n",
        "ct = ColumnTransformer(transformers = [('encoder', OneHotEncoder(), [0])], remainder='passthrough')\n",
        "x = np.array(ct.fit_transform(x))"
      ],
      "execution_count": 158,
      "outputs": []
    },
    {
      "cell_type": "code",
      "metadata": {
        "colab": {
          "base_uri": "https://localhost:8080/"
        },
        "id": "NoGV5w99eIpj",
        "outputId": "7b3cc4ce-3b37-4bdf-c75c-8654b15af099"
      },
      "source": [
        "print(x)"
      ],
      "execution_count": 159,
      "outputs": [
        {
          "output_type": "stream",
          "text": [
            "[[0.0 1.0 0.0 0.0 25.0 48695.0]\n",
            " [0.0 0.0 1.0 0.0 33.0 48950.0]\n",
            " [0.0 0.0 1.0 0.0 31.0 54500.0]\n",
            " [0.0 0.0 0.0 1.0 38.0 61800.0]\n",
            " [0.0 1.0 0.0 0.0 37.125 15600.0]\n",
            " [0.0 1.0 0.0 0.0 35.0 58000.0]\n",
            " [0.0 0.0 1.0 0.0 37.125 42150.0]\n",
            " [0.0 0.0 0.0 1.0 48.0 80000.0]\n",
            " [1.0 0.0 0.0 0.0 50.0 30800.0]\n",
            " [1.0 0.0 0.0 0.0 37.0 60000.0]]\n"
          ],
          "name": "stdout"
        }
      ]
    },
    {
      "cell_type": "code",
      "metadata": {
        "id": "ZnYHa9h2eL_A"
      },
      "source": [
        "from sklearn.preprocessing import LabelEncoder\n",
        "le = LabelEncoder()\n",
        "y = le.fit_transform(y)"
      ],
      "execution_count": 160,
      "outputs": []
    },
    {
      "cell_type": "code",
      "metadata": {
        "colab": {
          "base_uri": "https://localhost:8080/"
        },
        "id": "BhBohgW0fE1-",
        "outputId": "cdce28ed-c69d-4fcd-dc7d-d5c3fd2376de"
      },
      "source": [
        "print(y)"
      ],
      "execution_count": 161,
      "outputs": [
        {
          "output_type": "stream",
          "text": [
            "[1 1 0 1 0 0 0 0 0 1]\n"
          ],
          "name": "stdout"
        }
      ]
    },
    {
      "cell_type": "code",
      "metadata": {
        "id": "h6Pi1vRSfag_"
      },
      "source": [
        "from sklearn.model_selection import train_test_split\n",
        "x_train, x_test, y_train, y_test = train_test_split(x, y, test_size = 0.2, random_state = 1)"
      ],
      "execution_count": 162,
      "outputs": []
    },
    {
      "cell_type": "code",
      "metadata": {
        "colab": {
          "base_uri": "https://localhost:8080/"
        },
        "id": "_q8EV7mOfcag",
        "outputId": "d7e72e61-59ce-4018-cf89-bd7dafda12de"
      },
      "source": [
        "print(x_train)"
      ],
      "execution_count": 163,
      "outputs": [
        {
          "output_type": "stream",
          "text": [
            "[[0.0 0.0 1.0 0.0 37.125 42150.0]\n",
            " [0.0 1.0 0.0 0.0 37.125 15600.0]\n",
            " [0.0 1.0 0.0 0.0 25.0 48695.0]\n",
            " [0.0 0.0 0.0 1.0 38.0 61800.0]\n",
            " [0.0 0.0 1.0 0.0 33.0 48950.0]\n",
            " [0.0 0.0 0.0 1.0 48.0 80000.0]\n",
            " [1.0 0.0 0.0 0.0 50.0 30800.0]\n",
            " [0.0 1.0 0.0 0.0 35.0 58000.0]]\n"
          ],
          "name": "stdout"
        }
      ]
    },
    {
      "cell_type": "code",
      "metadata": {
        "colab": {
          "base_uri": "https://localhost:8080/"
        },
        "id": "HlEQcwp9fgTY",
        "outputId": "ff50be32-9f02-4fd0-8e7c-d3e6086ca1ec"
      },
      "source": [
        "print(x_test)"
      ],
      "execution_count": 164,
      "outputs": [
        {
          "output_type": "stream",
          "text": [
            "[[0.0 0.0 1.0 0.0 31.0 54500.0]\n",
            " [1.0 0.0 0.0 0.0 37.0 60000.0]]\n"
          ],
          "name": "stdout"
        }
      ]
    },
    {
      "cell_type": "code",
      "metadata": {
        "colab": {
          "base_uri": "https://localhost:8080/"
        },
        "id": "_frpqI_kfiZG",
        "outputId": "4e795ead-b579-4998-b3d9-ac715fe871f1"
      },
      "source": [
        "print(y_train)"
      ],
      "execution_count": 165,
      "outputs": [
        {
          "output_type": "stream",
          "text": [
            "[0 0 1 1 1 0 0 0]\n"
          ],
          "name": "stdout"
        }
      ]
    },
    {
      "cell_type": "code",
      "metadata": {
        "colab": {
          "base_uri": "https://localhost:8080/"
        },
        "id": "H0bYI3whfn6P",
        "outputId": "6bfd8642-8b38-4376-c048-47e517c42c9d"
      },
      "source": [
        "print(y_test)"
      ],
      "execution_count": 166,
      "outputs": [
        {
          "output_type": "stream",
          "text": [
            "[0 1]\n"
          ],
          "name": "stdout"
        }
      ]
    },
    {
      "cell_type": "code",
      "metadata": {
        "id": "1jF_mm6bft_y"
      },
      "source": [
        "from sklearn.preprocessing import StandardScaler\n",
        "sc = StandardScaler()\n",
        "x_train[:, 4:] = sc.fit_transform(x_train[:, 4:])\n",
        "x_test[:, 4:] = sc.transform(x_test[:, 4:])"
      ],
      "execution_count": 167,
      "outputs": []
    },
    {
      "cell_type": "code",
      "metadata": {
        "colab": {
          "base_uri": "https://localhost:8080/"
        },
        "id": "qZPjD6Ykfx5q",
        "outputId": "2f2ffab0-d91e-4503-e563-1fdfed049b61"
      },
      "source": [
        "print(x_train)"
      ],
      "execution_count": 168,
      "outputs": [
        {
          "output_type": "stream",
          "text": [
            "[[0.0 0.0 1.0 0.0 -0.10434525713440435 -0.33230648468078755]\n",
            " [0.0 1.0 0.0 0.0 -0.10434525713440435 -1.778805046955596]\n",
            " [0.0 1.0 0.0 0.0 -1.7237836478603596 0.024278565793360133]\n",
            " [0.0 0.0 0.0 1.0 0.01252143085612852 0.7382658975677995]\n",
            " [0.0 0.0 1.0 0.0 -0.6552882148040593 0.038171489837807444]\n",
            " [0.0 0.0 0.0 1.0 1.348140722176504 1.7298392999558037]\n",
            " [1.0 0.0 0.0 0.0 1.6152645804405792 -0.9506778097963836]\n",
            " [0.0 1.0 0.0 0.0 -0.38816435653998416 0.5312340882779963]]\n"
          ],
          "name": "stdout"
        }
      ]
    },
    {
      "cell_type": "code",
      "metadata": {
        "colab": {
          "base_uri": "https://localhost:8080/"
        },
        "id": "_1JLsYT9f2h4",
        "outputId": "fa5d3a5f-632c-4a89-d804-18fd9ab681ec"
      },
      "source": [
        "print(x_test)"
      ],
      "execution_count": 169,
      "outputs": [
        {
          "output_type": "stream",
          "text": [
            "[[0.0 0.0 1.0 0.0 -0.9224120730681343 0.3405468955110725]\n",
            " [1.0 0.0 0.0 0.0 -0.12104049827590903 0.6401981984305243]]\n"
          ],
          "name": "stdout"
        }
      ]
    }
  ]
}